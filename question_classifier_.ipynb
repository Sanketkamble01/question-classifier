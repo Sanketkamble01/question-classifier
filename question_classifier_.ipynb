{
  "nbformat": 4,
  "nbformat_minor": 0,
  "metadata": {
    "colab": {
      "provenance": [],
      "authorship_tag": "ABX9TyOiDJZewn/499V6FHrbFrKF",
      "include_colab_link": true
    },
    "kernelspec": {
      "name": "python3",
      "display_name": "Python 3"
    },
    "language_info": {
      "name": "python"
    }
  },
  "cells": [
    {
      "cell_type": "markdown",
      "metadata": {
        "id": "view-in-github",
        "colab_type": "text"
      },
      "source": [
        "<a href=\"https://colab.research.google.com/github/Sanketkamble01/question-classifier/blob/main/question_classifier_.ipynb\" target=\"_parent\"><img src=\"https://colab.research.google.com/assets/colab-badge.svg\" alt=\"Open In Colab\"/></a>"
      ]
    },
    {
      "cell_type": "code",
      "execution_count": 1,
      "metadata": {
        "colab": {
          "base_uri": "https://localhost:8080/"
        },
        "id": "3jhFnrWe5Y7G",
        "outputId": "decc6757-ffd1-4ec4-8fc1-231940ae3af9"
      },
      "outputs": [
        {
          "output_type": "stream",
          "name": "stdout",
          "text": [
            "Enter your question: what is 10 + 2\n",
            "That's a math question. The answer is 12.\n"
          ]
        }
      ],
      "source": [
        "\n",
        "import re\n",
        "\n",
        "def classify_question(question):\n",
        "    q = question.lower()\n",
        "    if re.search(r'\\b\\d+[\\+\\-\\*/]\\d+\\b', q) or re.search(r'\\d', q):\n",
        "        return \"math\"\n",
        "    elif any(word in q for word in [\"think\", \"feel\", \"opinion\", \"believe\"]):\n",
        "        return \"opinion\"\n",
        "    else:\n",
        "        return \"factual\"\n",
        "\n",
        "def respond(question):\n",
        "    qtype = classify_question(question)\n",
        "    if qtype == \"math\":\n",
        "        try:\n",
        "            answer = eval(re.sub(r'[^0-9\\+\\-\\*/\\.]', '', question))\n",
        "            return f\"That's a math question. The answer is {answer}.\"\n",
        "        except:\n",
        "            return \"That's a math question, but I couldn't solve it.\"\n",
        "    elif qtype == \"opinion\":\n",
        "        return \"That's an opinion question. I'd love to share my thoughts!\"\n",
        "    else:\n",
        "        return \"That's a factual question. Let me give you a precise answer.\"\n",
        "\n",
        "if __name__ == \"__main__\":\n",
        "    user_q = input(\"Enter your question: \")\n",
        "    print(respond(user_q))\n"
      ]
    },
    {
      "cell_type": "markdown",
      "source": [
        "Adding API/LLM Support:\n",
        "\n",
        "Integrate OpenAI GPT API or Hugging Face Transformers to replace the simple keyword logic with a fine-tuned text classification model.\n",
        "\n",
        "Use an API call to classify the question type with higher accuracy.\n",
        "\n",
        "For factual/math queries, forward to specialized APIs:\n",
        "\n",
        "Math → WolframAlpha API or Python evaluation sandbox.\n",
        "\n",
        "Factual → Knowledge graph or LLM prompt for verified info.\n",
        "\n",
        "Opinion → LLM prompt for nuanced discussion.\n",
        "\n"
      ],
      "metadata": {
        "id": "iJQ5pGFm5ohe"
      }
    }
  ]
}